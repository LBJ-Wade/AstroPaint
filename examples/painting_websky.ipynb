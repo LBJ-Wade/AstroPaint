{
 "cells": [
  {
   "cell_type": "code",
   "execution_count": 26,
   "metadata": {
    "ExecuteTime": {
     "end_time": "2020-04-29T04:36:28.327814Z",
     "start_time": "2020-04-29T04:36:28.318552Z"
    }
   },
   "outputs": [],
   "source": [
    "from astropaint import Catalog, Canvas, Painter\n",
    "from astropaint.profiles import NFW, Battaglia16\n",
    "\n",
    "import matplotlib.pyplot as plt \n",
    "from matplotlib import rcParams\n",
    "\n",
    "rcParams[\"figure.dpi\"]=100"
   ]
  },
  {
   "cell_type": "markdown",
   "metadata": {},
   "source": [
    "# Load the Catalog "
   ]
  },
  {
   "cell_type": "code",
   "execution_count": 2,
   "metadata": {
    "ExecuteTime": {
     "end_time": "2020-04-29T04:20:40.393186Z",
     "start_time": "2020-04-29T04:20:39.490870Z"
    }
   },
   "outputs": [
    {
     "name": "stdout",
     "output_type": "stream",
     "text": [
      "Catalog loaded from:\n",
      "/Users/siavashyasini/Dropbox/cosmology/Projects/2020/AstroPaint/astropaint/data/websky_2x2.csv\n",
      "Building the dataframe and updating all the parameters...\n",
      "\n",
      "Done!\n"
     ]
    }
   ],
   "source": [
    "catalog = Catalog(\"websky_2x2\")"
   ]
  },
  {
   "cell_type": "code",
   "execution_count": 3,
   "metadata": {
    "ExecuteTime": {
     "end_time": "2020-04-29T04:20:40.943026Z",
     "start_time": "2020-04-29T04:20:40.902087Z"
    }
   },
   "outputs": [
    {
     "data": {
      "text/html": [
       "<div>\n",
       "<style scoped>\n",
       "    .dataframe tbody tr th:only-of-type {\n",
       "        vertical-align: middle;\n",
       "    }\n",
       "\n",
       "    .dataframe tbody tr th {\n",
       "        vertical-align: top;\n",
       "    }\n",
       "\n",
       "    .dataframe thead th {\n",
       "        text-align: right;\n",
       "    }\n",
       "</style>\n",
       "<table border=\"1\" class=\"dataframe\">\n",
       "  <thead>\n",
       "    <tr style=\"text-align: right;\">\n",
       "      <th></th>\n",
       "      <th>x</th>\n",
       "      <th>y</th>\n",
       "      <th>z</th>\n",
       "      <th>v_x</th>\n",
       "      <th>v_y</th>\n",
       "      <th>v_z</th>\n",
       "      <th>M_200c</th>\n",
       "      <th>R</th>\n",
       "      <th>D_c</th>\n",
       "      <th>lat</th>\n",
       "      <th>...</th>\n",
       "      <th>R_200c</th>\n",
       "      <th>c_200c</th>\n",
       "      <th>R_ang_200c</th>\n",
       "      <th>rho_s</th>\n",
       "      <th>R_s</th>\n",
       "      <th>v_r</th>\n",
       "      <th>v_th</th>\n",
       "      <th>v_ph</th>\n",
       "      <th>v_lat</th>\n",
       "      <th>v_lon</th>\n",
       "    </tr>\n",
       "  </thead>\n",
       "  <tbody>\n",
       "    <tr>\n",
       "      <th>0</th>\n",
       "      <td>3089.9556</td>\n",
       "      <td>1.636990</td>\n",
       "      <td>2.776114</td>\n",
       "      <td>402.95422</td>\n",
       "      <td>164.697630</td>\n",
       "      <td>313.47760</td>\n",
       "      <td>5.093206e+12</td>\n",
       "      <td>3.138317</td>\n",
       "      <td>3089.957281</td>\n",
       "      <td>0.051476</td>\n",
       "      <td>...</td>\n",
       "      <td>0.192980</td>\n",
       "      <td>5.257950</td>\n",
       "      <td>0.403910</td>\n",
       "      <td>2.062540e+15</td>\n",
       "      <td>0.036702</td>\n",
       "      <td>403.322892</td>\n",
       "      <td>-313.115369</td>\n",
       "      <td>164.484131</td>\n",
       "      <td>313.115369</td>\n",
       "      <td>164.484131</td>\n",
       "    </tr>\n",
       "    <tr>\n",
       "      <th>1</th>\n",
       "      <td>3096.4026</td>\n",
       "      <td>0.346155</td>\n",
       "      <td>2.607054</td>\n",
       "      <td>328.57767</td>\n",
       "      <td>38.913113</td>\n",
       "      <td>304.94200</td>\n",
       "      <td>3.280243e+12</td>\n",
       "      <td>2.710203</td>\n",
       "      <td>3096.403717</td>\n",
       "      <td>0.048241</td>\n",
       "      <td>...</td>\n",
       "      <td>0.166440</td>\n",
       "      <td>5.486880</td>\n",
       "      <td>0.348084</td>\n",
       "      <td>2.283300e+15</td>\n",
       "      <td>0.030334</td>\n",
       "      <td>328.838651</td>\n",
       "      <td>-304.665238</td>\n",
       "      <td>38.876380</td>\n",
       "      <td>304.665238</td>\n",
       "      <td>38.876380</td>\n",
       "    </tr>\n",
       "    <tr>\n",
       "      <th>2</th>\n",
       "      <td>2535.0215</td>\n",
       "      <td>0.494748</td>\n",
       "      <td>1.872513</td>\n",
       "      <td>-221.48776</td>\n",
       "      <td>55.406178</td>\n",
       "      <td>183.67040</td>\n",
       "      <td>3.875824e+12</td>\n",
       "      <td>2.865197</td>\n",
       "      <td>2535.022240</td>\n",
       "      <td>0.042322</td>\n",
       "      <td>...</td>\n",
       "      <td>0.196682</td>\n",
       "      <td>5.427123</td>\n",
       "      <td>0.449482</td>\n",
       "      <td>1.594290e+15</td>\n",
       "      <td>0.036241</td>\n",
       "      <td>-221.341213</td>\n",
       "      <td>-183.833945</td>\n",
       "      <td>55.449404</td>\n",
       "      <td>183.833945</td>\n",
       "      <td>55.449404</td>\n",
       "    </tr>\n",
       "    <tr>\n",
       "      <th>3</th>\n",
       "      <td>2545.5068</td>\n",
       "      <td>3.827994</td>\n",
       "      <td>3.795186</td>\n",
       "      <td>-441.95447</td>\n",
       "      <td>281.371900</td>\n",
       "      <td>206.09782</td>\n",
       "      <td>8.626426e+12</td>\n",
       "      <td>3.740906</td>\n",
       "      <td>2545.512507</td>\n",
       "      <td>0.085424</td>\n",
       "      <td>...</td>\n",
       "      <td>0.256263</td>\n",
       "      <td>5.021379</td>\n",
       "      <td>0.584442</td>\n",
       "      <td>1.342990e+15</td>\n",
       "      <td>0.051034</td>\n",
       "      <td>-441.223068</td>\n",
       "      <td>-206.755883</td>\n",
       "      <td>282.036203</td>\n",
       "      <td>206.755883</td>\n",
       "      <td>282.036203</td>\n",
       "    </tr>\n",
       "    <tr>\n",
       "      <th>4</th>\n",
       "      <td>2783.2847</td>\n",
       "      <td>0.428915</td>\n",
       "      <td>2.538868</td>\n",
       "      <td>-91.40550</td>\n",
       "      <td>229.916000</td>\n",
       "      <td>432.97037</td>\n",
       "      <td>1.988615e+12</td>\n",
       "      <td>2.293771</td>\n",
       "      <td>2783.285891</td>\n",
       "      <td>0.052264</td>\n",
       "      <td>...</td>\n",
       "      <td>0.149909</td>\n",
       "      <td>5.776688</td>\n",
       "      <td>0.327742</td>\n",
       "      <td>2.133540e+15</td>\n",
       "      <td>0.025951</td>\n",
       "      <td>-90.975081</td>\n",
       "      <td>-433.053536</td>\n",
       "      <td>229.930083</td>\n",
       "      <td>433.053536</td>\n",
       "      <td>229.930083</td>\n",
       "    </tr>\n",
       "  </tbody>\n",
       "</table>\n",
       "<p>5 rows × 25 columns</p>\n",
       "</div>"
      ],
      "text/plain": [
       "           x         y         z        v_x         v_y        v_z  \\\n",
       "0  3089.9556  1.636990  2.776114  402.95422  164.697630  313.47760   \n",
       "1  3096.4026  0.346155  2.607054  328.57767   38.913113  304.94200   \n",
       "2  2535.0215  0.494748  1.872513 -221.48776   55.406178  183.67040   \n",
       "3  2545.5068  3.827994  3.795186 -441.95447  281.371900  206.09782   \n",
       "4  2783.2847  0.428915  2.538868  -91.40550  229.916000  432.97037   \n",
       "\n",
       "         M_200c         R          D_c       lat  ...    R_200c    c_200c  \\\n",
       "0  5.093206e+12  3.138317  3089.957281  0.051476  ...  0.192980  5.257950   \n",
       "1  3.280243e+12  2.710203  3096.403717  0.048241  ...  0.166440  5.486880   \n",
       "2  3.875824e+12  2.865197  2535.022240  0.042322  ...  0.196682  5.427123   \n",
       "3  8.626426e+12  3.740906  2545.512507  0.085424  ...  0.256263  5.021379   \n",
       "4  1.988615e+12  2.293771  2783.285891  0.052264  ...  0.149909  5.776688   \n",
       "\n",
       "   R_ang_200c         rho_s       R_s         v_r        v_th        v_ph  \\\n",
       "0    0.403910  2.062540e+15  0.036702  403.322892 -313.115369  164.484131   \n",
       "1    0.348084  2.283300e+15  0.030334  328.838651 -304.665238   38.876380   \n",
       "2    0.449482  1.594290e+15  0.036241 -221.341213 -183.833945   55.449404   \n",
       "3    0.584442  1.342990e+15  0.051034 -441.223068 -206.755883  282.036203   \n",
       "4    0.327742  2.133540e+15  0.025951  -90.975081 -433.053536  229.930083   \n",
       "\n",
       "        v_lat       v_lon  \n",
       "0  313.115369  164.484131  \n",
       "1  304.665238   38.876380  \n",
       "2  183.833945   55.449404  \n",
       "3  206.755883  282.036203  \n",
       "4  433.053536  229.930083  \n",
       "\n",
       "[5 rows x 25 columns]"
      ]
     },
     "execution_count": 3,
     "metadata": {},
     "output_type": "execute_result"
    }
   ],
   "source": [
    "catalog.data.head()"
   ]
  },
  {
   "cell_type": "code",
   "execution_count": 4,
   "metadata": {
    "ExecuteTime": {
     "end_time": "2020-04-29T04:20:43.529181Z",
     "start_time": "2020-04-29T04:20:43.524082Z"
    }
   },
   "outputs": [
    {
     "data": {
      "text/plain": [
       "82632"
      ]
     },
     "execution_count": 4,
     "metadata": {},
     "output_type": "execute_result"
    }
   ],
   "source": [
    "catalog.size"
   ]
  },
  {
   "cell_type": "markdown",
   "metadata": {},
   "source": [
    "Check out the redshift and mass histograms"
   ]
  },
  {
   "cell_type": "code",
   "execution_count": 5,
   "metadata": {
    "ExecuteTime": {
     "end_time": "2020-04-29T04:20:44.712629Z",
     "start_time": "2020-04-29T04:20:44.410372Z"
    }
   },
   "outputs": [
    {
     "data": {
      "text/plain": [
       "<matplotlib.axes._subplots.AxesSubplot at 0x12ddcdb00>"
      ]
     },
     "execution_count": 5,
     "metadata": {},
     "output_type": "execute_result"
    },
    {
     "data": {
      "image/png": "[encoded data removed]",
      "text/plain": [
       "<Figure size 432x288 with 1 Axes>"
      ]
     },
     "metadata": {
      "needs_background": "light"
     },
     "output_type": "display_data"
    }
   ],
   "source": [
    "catalog.data.redshift.hist()"
   ]
  },
  {
   "cell_type": "code",
   "execution_count": 6,
   "metadata": {
    "ExecuteTime": {
     "end_time": "2020-04-29T04:20:45.807623Z",
     "start_time": "2020-04-29T04:20:44.997527Z"
    }
   },
   "outputs": [
    {
     "data": {
      "text/plain": [
       "<matplotlib.axes._subplots.AxesSubplot at 0x111688748>"
      ]
     },
     "execution_count": 6,
     "metadata": {},
     "output_type": "execute_result"
    },
    {
     "data": {
      "image/png": "[encoded data removed]",
      "text/plain": [
       "<Figure size 432x288 with 1 Axes>"
      ]
     },
     "metadata": {
      "needs_background": "light"
     },
     "output_type": "display_data"
    }
   ],
   "source": [
    "catalog.data.M_200c.hist(bins=20, log=True)"
   ]
  },
  {
   "cell_type": "code",
   "execution_count": 9,
   "metadata": {
    "ExecuteTime": {
     "end_time": "2020-04-29T04:21:00.694522Z",
     "start_time": "2020-04-29T04:21:00.678866Z"
    }
   },
   "outputs": [
    {
     "data": {
      "text/plain": [
       "'Minimum M_200c: 1.00e+13'"
      ]
     },
     "execution_count": 9,
     "metadata": {},
     "output_type": "execute_result"
    }
   ],
   "source": [
    "f\"Minimum M_200c: {catalog.data.M_200c.min():.2e}\""
   ]
  },
  {
   "cell_type": "code",
   "execution_count": 10,
   "metadata": {
    "ExecuteTime": {
     "end_time": "2020-04-29T04:21:02.124939Z",
     "start_time": "2020-04-29T04:21:02.075451Z"
    }
   },
   "outputs": [
    {
     "name": "stdout",
     "output_type": "stream",
     "text": [
      "Catalog data has been modified...\n",
      "\n",
      "Building the dataframe and updating all the parameters...\n",
      "\n",
      "Done!\n",
      "Catalog data has been modified...\n",
      "\n",
      "Building the dataframe and updating all the parameters...\n",
      "\n",
      "Done!\n"
     ]
    }
   ],
   "source": [
    "catalog.cut_lon_lat(lon_range=[0,1], lat_range=[0,1])\n",
    "catalog.cut_M_200c(mass_min=1E13)"
   ]
  },
  {
   "cell_type": "code",
   "execution_count": 11,
   "metadata": {
    "ExecuteTime": {
     "end_time": "2020-04-29T04:21:03.637638Z",
     "start_time": "2020-04-29T04:21:03.630913Z"
    }
   },
   "outputs": [
    {
     "data": {
      "text/plain": [
       "1376"
      ]
     },
     "execution_count": 11,
     "metadata": {},
     "output_type": "execute_result"
    }
   ],
   "source": [
    "catalog.size"
   ]
  },
  {
   "cell_type": "markdown",
   "metadata": {},
   "source": [
    "# Paint kSZ"
   ]
  },
  {
   "cell_type": "code",
   "execution_count": 22,
   "metadata": {
    "ExecuteTime": {
     "end_time": "2020-04-29T04:25:48.000508Z",
     "start_time": "2020-04-29T04:25:47.995370Z"
    }
   },
   "outputs": [],
   "source": [
    "nside = 4096\n",
    "canvas = Canvas(catalog, nside=nside, R_times=3)"
   ]
  },
  {
   "cell_type": "code",
   "execution_count": 18,
   "metadata": {
    "ExecuteTime": {
     "end_time": "2020-04-29T04:21:51.610281Z",
     "start_time": "2020-04-29T04:21:49.748287Z"
    }
   },
   "outputs": [
    {
     "name": "stderr",
     "output_type": "stream",
     "text": [
      "/Users/siavashyasini/.local/lib/python3.7/site-packages/healpy/projaxes.py:1155: MatplotlibDeprecationWarning: \n",
      "The iterable function was deprecated in Matplotlib 3.1 and will be removed in 3.3. Use np.iterable instead.\n",
      "  if matplotlib.cbook.iterable(value):\n"
     ]
    },
    {
     "name": "stdout",
     "output_type": "stream",
     "text": [
      "88.08582233904805 90.91417766095195 -0.9142315105544221 1.9142315105544223\n",
      "The interval between parallels is 30 deg -0.00'.\n",
      "The interval between meridians is 30 deg -0.00'.\n"
     ]
    },
    {
     "data": {
      "image/png": "[encoded data removed]",
      "text/plain": [
       "<Figure size 612x388.8 with 1 Axes>"
      ]
     },
     "metadata": {
      "needs_background": "light"
     },
     "output_type": "display_data"
    }
   ],
   "source": [
    "canvas.show_halo_centers(\"cart\", lonra=[0,1], latra=[0,1], s=5, color='k')"
   ]
  },
  {
   "cell_type": "code",
   "execution_count": 23,
   "metadata": {
    "ExecuteTime": {
     "end_time": "2020-04-29T04:26:21.247081Z",
     "start_time": "2020-04-29T04:26:21.241466Z"
    }
   },
   "outputs": [
    {
     "name": "stdout",
     "output_type": "stream",
     "text": [
      "The template 'kSZ_T' takes in the following arguments:\n",
      "['R', 'R_200c', 'M_200c', 'v_r', 'redshift']\n",
      "and the following keyword-only arguments:\n",
      "['T_cmb']\n"
     ]
    }
   ],
   "source": [
    "painter = Painter(Battaglia16.kSZ_T)\n",
    "#painter = Painter(NFW.kSZ_T) ## A faster but inaccurate option"
   ]
  },
  {
   "cell_type": "code",
   "execution_count": 25,
   "metadata": {
    "ExecuteTime": {
     "end_time": "2020-04-29T04:36:27.982521Z",
     "start_time": "2020-04-29T04:26:29.392275Z"
    }
   },
   "outputs": [
    {
     "name": "stdout",
     "output_type": "stream",
     "text": [
      "Painting the canvas...\n",
      "No template_kwargs provided\n",
      "spray_df.columns = Index(['R_200c', 'v_r', 'M_200c', 'redshift'], dtype='object')\n"
     ]
    },
    {
     "data": {
      "application/vnd.jupyter.widget-view+json": {
       "model_id": "0af3c93112f24a0a97088e7a293b7954",
       "version_major": 2,
       "version_minor": 0
      },
      "text/plain": [
       "HBox(children=(IntProgress(value=0, max=1376), HTML(value='')))"
      ]
     },
     "metadata": {},
     "output_type": "display_data"
    },
    {
     "name": "stdout",
     "output_type": "stream",
     "text": [
      "\n",
      "Your artwork is finished. Check it out with Canvas.show_map()\n"
     ]
    }
   ],
   "source": [
    "canvas.clean() #make sure canvas is clean\n",
    "painter.spray(canvas,\n",
    "              #cache=True, ## uncomment to cache the profiles to disc; makes the painting slower\n",
    "              #with_ray=True, ##uncomment to paint in parallel; do not use with cache=True\n",
    "             )"
   ]
  },
  {
   "cell_type": "code",
   "execution_count": 21,
   "metadata": {
    "ExecuteTime": {
     "end_time": "2020-04-29T04:25:35.811614Z",
     "start_time": "2020-04-29T04:25:35.352249Z"
    }
   },
   "outputs": [
    {
     "name": "stderr",
     "output_type": "stream",
     "text": [
      "/Users/siavashyasini/.local/lib/python3.7/site-packages/healpy/projaxes.py:1196: MatplotlibDeprecationWarning: \n",
      "The iterable function was deprecated in Matplotlib 3.1 and will be removed in 3.3. Use np.iterable instead.\n",
      "  if matplotlib.cbook.iterable(value):\n",
      "/Users/siavashyasini/.local/lib/python3.7/site-packages/healpy/projaxes.py:1155: MatplotlibDeprecationWarning: \n",
      "The iterable function was deprecated in Matplotlib 3.1 and will be removed in 3.3. Use np.iterable instead.\n",
      "  if matplotlib.cbook.iterable(value):\n"
     ]
    },
    {
     "data": {
      "image/png": "[encoded data removed]",
      "text/plain": [
       "<Figure size 612x388.8 with 2 Axes>"
      ]
     },
     "metadata": {
      "needs_background": "light"
     },
     "output_type": "display_data"
    }
   ],
   "source": [
    "canvas.show_map(\"cartesian\",\n",
    "                title=f\"{painter.template_name}\",\n",
    "                lonra=[0,1], latra=[0,1], \n",
    "                min=-1E-5, max=1E-5)"
   ]
  },
  {
   "cell_type": "code",
   "execution_count": null,
   "metadata": {},
   "outputs": [],
   "source": []
  }
 ],
 "metadata": {
  "kernelspec": {
   "display_name": "Python 3",
   "language": "python",
   "name": "python3"
  },
  "latex_envs": {
   "LaTeX_envs_menu_present": true,
   "autoclose": false,
   "autocomplete": true,
   "bibliofile": "biblio.bib",
   "cite_by": "apalike",
   "current_citInitial": 1,
   "eqLabelWithNumbers": true,
   "eqNumInitial": 1,
   "hotkeys": {
    "equation": "Ctrl-E",
    "itemize": "Ctrl-I"
   },
   "labels_anchors": false,
   "latex_user_defs": false,
   "report_style_numbering": false,
   "user_envs_cfg": false
  },
  "toc": {
   "base_numbering": 1,
   "nav_menu": {},
   "number_sections": true,
   "sideBar": true,
   "skip_h1_title": false,
   "title_cell": "Table of Contents",
   "title_sidebar": "Contents",
   "toc_cell": false,
   "toc_position": {},
   "toc_section_display": true,
   "toc_window_display": false
  },
  "varInspector": {
   "cols": {
    "lenName": 16,
    "lenType": 16,
    "lenVar": 40
   },
   "kernels_config": {
    "python": {
     "delete_cmd_postfix": "",
     "delete_cmd_prefix": "del ",
     "library": "var_list.py",
     "varRefreshCmd": "print(var_dic_list())"
    },
    "r": {
     "delete_cmd_postfix": ") ",
     "delete_cmd_prefix": "rm(",
     "library": "var_list.r",
     "varRefreshCmd": "cat(var_dic_list()) "
    }
   },
   "types_to_exclude": [
    "module",
    "function",
    "builtin_function_or_method",
    "instance",
    "_Feature"
   ],
   "window_display": false
  }
 },
 "nbformat": 4,
 "nbformat_minor": 2
}
